{
 "cells": [
  {
   "cell_type": "code",
   "execution_count": 1,
   "id": "ef29dc38",
   "metadata": {},
   "outputs": [],
   "source": [
    "import math"
   ]
  },
  {
   "cell_type": "code",
   "execution_count": 2,
   "id": "1860ac08",
   "metadata": {},
   "outputs": [
    {
     "data": {
      "text/plain": [
       "221"
      ]
     },
     "execution_count": 2,
     "metadata": {},
     "output_type": "execute_result"
    }
   ],
   "source": [
    "out_nn = math.floor((224-4)/1 +1)\n",
    "out_nn"
   ]
  },
  {
   "cell_type": "code",
   "execution_count": 3,
   "id": "1b81466e",
   "metadata": {},
   "outputs": [
    {
     "data": {
      "text/plain": [
       "110"
      ]
     },
     "execution_count": 3,
     "metadata": {},
     "output_type": "execute_result"
    }
   ],
   "source": [
    "out_nn = math.floor((221-2)/2 +1)\n",
    "out_nn"
   ]
  },
  {
   "cell_type": "code",
   "execution_count": 4,
   "id": "3e8f6ec0",
   "metadata": {},
   "outputs": [
    {
     "data": {
      "text/plain": [
       "108"
      ]
     },
     "execution_count": 4,
     "metadata": {},
     "output_type": "execute_result"
    }
   ],
   "source": [
    "out_nn = math.floor((110-3)/1 +1)\n",
    "out_nn"
   ]
  },
  {
   "cell_type": "code",
   "execution_count": 5,
   "id": "783ab689",
   "metadata": {},
   "outputs": [
    {
     "data": {
      "text/plain": [
       "54"
      ]
     },
     "execution_count": 5,
     "metadata": {},
     "output_type": "execute_result"
    }
   ],
   "source": [
    "out_nn = math.floor((108-2)/2 +1)\n",
    "out_nn"
   ]
  },
  {
   "cell_type": "code",
   "execution_count": 6,
   "id": "8def1e3f",
   "metadata": {},
   "outputs": [
    {
     "data": {
      "text/plain": [
       "53"
      ]
     },
     "execution_count": 6,
     "metadata": {},
     "output_type": "execute_result"
    }
   ],
   "source": [
    "out_nn = math.floor((54-2)/1 +1)\n",
    "out_nn"
   ]
  },
  {
   "cell_type": "code",
   "execution_count": 7,
   "id": "68c6cfab",
   "metadata": {},
   "outputs": [
    {
     "data": {
      "text/plain": [
       "26"
      ]
     },
     "execution_count": 7,
     "metadata": {},
     "output_type": "execute_result"
    }
   ],
   "source": [
    "out_nn = math.floor((53-2)/2 +1)\n",
    "out_nn"
   ]
  },
  {
   "cell_type": "code",
   "execution_count": 8,
   "id": "bfda11cb",
   "metadata": {},
   "outputs": [
    {
     "data": {
      "text/plain": [
       "26"
      ]
     },
     "execution_count": 8,
     "metadata": {},
     "output_type": "execute_result"
    }
   ],
   "source": [
    "out_nn = math.floor((26-1)/1 +1)\n",
    "out_nn"
   ]
  },
  {
   "cell_type": "code",
   "execution_count": 9,
   "id": "5654cd5f",
   "metadata": {},
   "outputs": [
    {
     "data": {
      "text/plain": [
       "13"
      ]
     },
     "execution_count": 9,
     "metadata": {},
     "output_type": "execute_result"
    }
   ],
   "source": [
    "out_nn = math.floor((26-2)/2 +1)\n",
    "out_nn"
   ]
  },
  {
   "cell_type": "code",
   "execution_count": null,
   "id": "55c39527",
   "metadata": {},
   "outputs": [],
   "source": []
  }
 ],
 "metadata": {
  "kernelspec": {
   "display_name": "Python 3",
   "language": "python",
   "name": "python3"
  },
  "language_info": {
   "codemirror_mode": {
    "name": "ipython",
    "version": 3
   },
   "file_extension": ".py",
   "mimetype": "text/x-python",
   "name": "python",
   "nbconvert_exporter": "python",
   "pygments_lexer": "ipython3",
   "version": "3.6.13"
  }
 },
 "nbformat": 4,
 "nbformat_minor": 5
}
